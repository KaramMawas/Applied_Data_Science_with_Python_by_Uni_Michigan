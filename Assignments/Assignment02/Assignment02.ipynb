{
  "nbformat": 4,
  "nbformat_minor": 0,
  "metadata": {
    "colab": {
      "provenance": [],
      "toc_visible": true,
      "include_colab_link": true
    },
    "kernelspec": {
      "name": "python3",
      "display_name": "Python 3"
    },
    "language_info": {
      "name": "python"
    }
  },
  "cells": [
    {
      "cell_type": "markdown",
      "metadata": {
        "id": "view-in-github",
        "colab_type": "text"
      },
      "source": [
        "<a href=\"https://colab.research.google.com/github/KaramMawas/Applied_Data_Science_with_Python_by_Uni_Michigan/blob/master/Assignments/Assignment02/Assignment02.ipynb\" target=\"_parent\"><img src=\"https://colab.research.google.com/assets/colab-badge.svg\" alt=\"Open In Colab\"/></a>"
      ]
    },
    {
      "cell_type": "markdown",
      "source": [
        "<a href=\"https://colab.research.google.com/github/Deep-Learning-IGP-TUBS-SoSe2023/Group_E/blob/master/Assignments/Assignment02/Assignment02.ipynb\" target=\"_parent\"><img src=\"https://colab.research.google.com/assets/colab-badge.svg\" alt=\"Open In Colab\"/></a>"
      ],
      "metadata": {
        "id": "i6LMlSMXa4sA"
      }
    },
    {
      "cell_type": "markdown",
      "source": [
        "# Deep learning EDA Task\n",
        " <img src=\"https://www.tu-braunschweig.de/typo3conf/ext/tu_braunschweig/Resources/Public/Images/Logos/tu_braunschweig_logo.svg\" align=\"right\" width=\"200px\"/>\n",
        "\n",
        "[Institute of Geodesy and Photogrammetry](https://www.tu-braunschweig.de/en/igp),  \n",
        "[The Technical University of Braunschweig  ](https://www.tu-braunschweig.de/en/)  \n",
        "Instructors: [Dr. -Ing. Mehdi Maboudi](https://www.tu-braunschweig.de/en/igp/staff/mehdi-maboudi) and [Dr. Pedro Diaz](https://www.tu-braunschweig.de/en/igp/staff/pedro-diaz)\n",
        "<br clear=\"left\"/>"
      ],
      "metadata": {
        "id": "F-zfk0MBanFy"
      }
    },
    {
      "cell_type": "markdown",
      "source": [
        "## Group E - Members:\n",
        "1. Raissa, Magana Ugarte\n",
        "2. Karam, Mawas"
      ],
      "metadata": {
        "id": "nwAmHwzFbC05"
      }
    },
    {
      "cell_type": "markdown",
      "source": [
        "# What is DIOR?\n",
        "A large‐scale, publicly available benchmark for object DetectIon in Optical Remote sensing images, which we name as [DIOR](https://drive.google.com/drive/folders/1UdlgHk49iu6WpcJ5467iT-UqNPpx__CC) [(Li et al., 2019)](https://arxiv.org/abs/1909.00133).\n",
        "\n",
        "  <p align=\"center\">\n",
        "    <img width=1000 src=\"https://drive.google.com/uc?id=1mPetyiPZB0L8Y7NVPwbdu84VLpvneAZ1\" alt=\"Natural scene vs. Remote Sensing images\"/>\n",
        "  </p>\n",
        "\n",
        "The dataset contains 23463 images and 192472 instances, covering 20 object classes.\n",
        "\n",
        "What the proposed DIOR dataset provides:\n",
        "1.   Is large‐scale on the object categories, on the object instance number, and on the total image number.\n",
        "2.   Has a large range of object size variations, not only in terms of spatial resolutions, but also in the aspect of inter‐ and intra‐class size variability across objects.\n",
        "3. Holds big variations as the images are obtained with different imaging conditions, weathers, seasons, and image quality.\n",
        "4. Has high inter‐class similarity and intra‐class diversity.\n",
        "\n",
        "  <p align=\"center\">\n",
        "    <img width=1000 src=\"https://drive.google.com/uc?id=1zxi-JvCbIpE8DYPz4zqtZtsQlRyXse3E\" alt=\"DIOR examples\"/>\n",
        "  </p>\n"
      ],
      "metadata": {
        "id": "8n_DC8-QFvKp"
      }
    },
    {
      "cell_type": "markdown",
      "source": [
        "# Exploratory Data Analysis (EDA)\n",
        "\n",
        "Read Dataset and do the following:\n",
        "\n",
        "TODO:\n",
        "Read the data and check how many images we have for:\n",
        "\n",
        "\n",
        "1.   Train\n",
        "2.   Val.\n",
        "3.   Test\n",
        "\n",
        "Also,\n",
        "check the shapes for the images as well as the corresponding bounding boxes.\n",
        "\n",
        "Check for all (train, val, test): \n",
        "1. How many classes we have\n",
        "2. Number of images per class\n",
        "\n",
        "\n"
      ],
      "metadata": {
        "id": "PFZT0KmSULVZ"
      }
    },
    {
      "cell_type": "code",
      "source": [
        "# mount the drive"
      ],
      "metadata": {
        "id": "6_7-V_puU8DC"
      },
      "execution_count": null,
      "outputs": []
    },
    {
      "cell_type": "code",
      "source": [
        "# Import the libraries"
      ],
      "metadata": {
        "id": "5o6PBg73U4RI"
      },
      "execution_count": null,
      "outputs": []
    },
    {
      "cell_type": "code",
      "source": [
        "# ToDo based on reading the datasets above"
      ],
      "metadata": {
        "id": "HIqpTnkBUK-Y"
      },
      "execution_count": null,
      "outputs": []
    },
    {
      "cell_type": "code",
      "source": [
        "# Show an image matrix for the different classes"
      ],
      "metadata": {
        "id": "9aImLxcWVDOa"
      },
      "execution_count": null,
      "outputs": []
    },
    {
      "cell_type": "code",
      "source": [
        "# Number of classes"
      ],
      "metadata": {
        "id": "VXW9Lc4FVR6Z"
      },
      "execution_count": null,
      "outputs": []
    },
    {
      "cell_type": "code",
      "source": [
        "# images per class"
      ],
      "metadata": {
        "id": "WJnMO4RgVU3a"
      },
      "execution_count": null,
      "outputs": []
    },
    {
      "cell_type": "markdown",
      "source": [
        "## **Images aspect ratio**"
      ],
      "metadata": {
        "id": "l2wIsuWmTfee"
      }
    },
    {
      "cell_type": "code",
      "source": [
        "# The needed code for images aspect ratio"
      ],
      "metadata": {
        "id": "dZInRX40VjGT"
      },
      "execution_count": null,
      "outputs": []
    },
    {
      "cell_type": "markdown",
      "source": [
        "## **Objects aspect ratio and area**"
      ],
      "metadata": {
        "id": "zz8DVJpeTtj0"
      }
    },
    {
      "cell_type": "code",
      "source": [
        "# The needed code for Objects aspect ratio and area"
      ],
      "metadata": {
        "id": "Eg1Gp-dKVmki"
      },
      "execution_count": null,
      "outputs": []
    },
    {
      "cell_type": "markdown",
      "source": [
        "## **Partially labeled data**"
      ],
      "metadata": {
        "id": "o3z7NoWJTw32"
      }
    },
    {
      "cell_type": "code",
      "source": [
        "# The needed code for Partially labeled data"
      ],
      "metadata": {
        "id": "h2MzV_dbTqQM"
      },
      "execution_count": null,
      "outputs": []
    }
  ]
}